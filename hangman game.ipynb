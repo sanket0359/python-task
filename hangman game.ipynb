{
 "cells": [
  {
   "cell_type": "code",
   "execution_count": 12,
   "id": "a5be2874-2767-40cf-991e-3068868ff04a",
   "metadata": {},
   "outputs": [
    {
     "name": "stdout",
     "output_type": "stream",
     "text": [
      "Welcome to Hangman!\n",
      "\n",
      "Word to guess: ______\n"
     ]
    },
    {
     "name": "stdin",
     "output_type": "stream",
     "text": [
      "Guess a letter:  tree\n"
     ]
    },
    {
     "name": "stdout",
     "output_type": "stream",
     "text": [
      "Incorrect guess. You have 5 incorrect guesses left.\n",
      "\n",
      "Game over! The word was: animal\n",
      "\n",
      "Word to guess: ______\n"
     ]
    },
    {
     "name": "stdin",
     "output_type": "stream",
     "text": [
      "Guess a letter:  animal\n"
     ]
    },
    {
     "name": "stdout",
     "output_type": "stream",
     "text": [
      "Good guess!\n",
      "\n",
      "Game over! The word was: animal\n",
      "\n",
      "Word to guess: ______\n"
     ]
    },
    {
     "name": "stdin",
     "output_type": "stream",
     "text": [
      "Guess a letter:  python\n"
     ]
    },
    {
     "name": "stdout",
     "output_type": "stream",
     "text": [
      "Incorrect guess. You have 4 incorrect guesses left.\n",
      "\n",
      "Game over! The word was: animal\n",
      "\n",
      "Word to guess: ______\n"
     ]
    },
    {
     "name": "stdin",
     "output_type": "stream",
     "text": [
      "Guess a letter:  river\n"
     ]
    },
    {
     "name": "stdout",
     "output_type": "stream",
     "text": [
      "Incorrect guess. You have 3 incorrect guesses left.\n",
      "\n",
      "Game over! The word was: animal\n",
      "\n",
      "Word to guess: ______\n"
     ]
    },
    {
     "name": "stdin",
     "output_type": "stream",
     "text": [
      "Guess a letter:  war\n"
     ]
    },
    {
     "name": "stdout",
     "output_type": "stream",
     "text": [
      "Incorrect guess. You have 2 incorrect guesses left.\n",
      "\n",
      "Game over! The word was: animal\n",
      "\n",
      "Word to guess: ______\n"
     ]
    },
    {
     "name": "stdin",
     "output_type": "stream",
     "text": [
      "Guess a letter:  man\n"
     ]
    },
    {
     "name": "stdout",
     "output_type": "stream",
     "text": [
      "Incorrect guess. You have 1 incorrect guesses left.\n",
      "\n",
      "Game over! The word was: animal\n",
      "\n",
      "Word to guess: ______\n"
     ]
    },
    {
     "name": "stdin",
     "output_type": "stream",
     "text": [
      "Guess a letter:  programming\n"
     ]
    },
    {
     "name": "stdout",
     "output_type": "stream",
     "text": [
      "Incorrect guess. You have 0 incorrect guesses left.\n",
      "\n",
      "Game over! The word was: animal\n"
     ]
    }
   ],
   "source": [
    "import random\n",
    "\n",
    "def select_random_word():\n",
    "    words = [\"animal\",\"war\",\"man\",\"tree\",\"river\",\"python\",\"programming\"]\n",
    "    return random.choice(words)\n",
    "\n",
    "def display_word(word, guessed_letters):\n",
    "    displayed_word = \"\".join([letter if letter in guessed_letters else \"_\" for letter in word])\n",
    "    return displayed_word\n",
    "\n",
    "def hangman_game():\n",
    "    word_to_guess = select_random_word()\n",
    "    guessed_letters = set()\n",
    "    incorrect_guesses = 0\n",
    "    max_incorrect_guesses = 6\n",
    "    \n",
    "    print(\"Welcome to Hangman!\")\n",
    "    while incorrect_guesses < max_incorrect_guesses:\n",
    "        print(\"\\nWord to guess:\", display_word(word_to_guess, guessed_letters))\n",
    "        guess = input(\"Guess a letter: \").lower()\n",
    "        if guess in guessed_letters:\n",
    "            print(\"You already guessed that letter.\")\n",
    "        elif guess in word_to_guess:\n",
    "            guessed_letters.add(guess)\n",
    "            print(\"Good guess!\")\n",
    "        else:\n",
    "            guessed_letters.add(guess)\n",
    "            incorrect_guesses += 1\n",
    "            print(\"Incorrect guess. You have\", max_incorrect_guesses - incorrect_guesses, \"incorrect guesses left.\")\n",
    "         \n",
    "        if set(word_to_guess) == guessed_letters:\n",
    "            print(\"\\nCongratulations! You guessed the word:\", word_to_guess)\n",
    "            break\n",
    "        else:\n",
    "            print(\"\\nGame over! The word was:\", word_to_guess)\n",
    "hangman_game()\n",
    "        "
   ]
  },
  {
   "cell_type": "code",
   "execution_count": null,
   "id": "cb74cb03-a200-4218-89b6-170c3a2f6551",
   "metadata": {},
   "outputs": [],
   "source": [
    "import random\n",
    "\n",
    "def select_random_word():\n",
    "    words = [\"python\", \"hangman\", \"programming\", \"developer\", \"algorithm\",\"tree\",\"city\"]\n",
    "    return random.choice(words)\n",
    "\n",
    "def display_word(word, guessed_letters):\n",
    "    displayed_word = \"\".join([letter if letter in guessed_letters else \"_\" for letter in word])\n",
    "    return displayed_word\n",
    "\n",
    "def hangman_game():\n",
    "    word_to_guess = select_random_word()\n",
    "    guessed_letters = set()\n",
    "    incorrect_guesses = 0\n",
    "    max_incorrect_guesses = 6\n",
    "    \n",
    "    print(\"Welcome to Hangman!\")\n",
    "    \n",
    "    while incorrect_guesses < max_incorrect_guesses:\n",
    "        print(\"\\nWord to guess:\", display_word(word_to_guess, guessed_letters))\n",
    "        guess = input(\"Guess a letter: \").lower()\n",
    "        \n",
    "        if guess in guessed_letters:\n",
    "            print(\"You already guessed that letter.\")\n",
    "        elif guess in word_to_guess:\n",
    "            guessed_letters.add(guess)\n",
    "            print(\"Good guess!\")\n",
    "        else:\n",
    "            guessed_letters.add(guess)\n",
    "            incorrect_guesses += 1\n",
    "            print(\"Incorrect guess. You have\", max_incorrect_guesses - incorrect_guesses, \"incorrect guesses left.\")\n",
    "        \n",
    "        if set(word_to_guess) == guessed_letters:\n",
    "            print(\"\\nCongratulations! You guessed the word:\", word_to_guess)\n",
    "            break\n",
    "        else:\n",
    "            print(\"\\nGame over! The word was:\", word_to_guess)\n",
    "\n",
    "hangman_game()\n"
   ]
  },
  {
   "cell_type": "code",
   "execution_count": null,
   "id": "95998ab5-519a-4a7b-9e2b-2062cd4ddfd4",
   "metadata": {},
   "outputs": [],
   "source": []
  }
 ],
 "metadata": {
  "kernelspec": {
   "display_name": "Python 3 (ipykernel)",
   "language": "python",
   "name": "python3"
  },
  "language_info": {
   "codemirror_mode": {
    "name": "ipython",
    "version": 3
   },
   "file_extension": ".py",
   "mimetype": "text/x-python",
   "name": "python",
   "nbconvert_exporter": "python",
   "pygments_lexer": "ipython3",
   "version": "3.12.4"
  }
 },
 "nbformat": 4,
 "nbformat_minor": 5
}
